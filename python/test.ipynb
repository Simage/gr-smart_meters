{
 "metadata": {
  "language_info": {
   "codemirror_mode": {
    "name": "ipython",
    "version": 3
   },
   "file_extension": ".py",
   "mimetype": "text/x-python",
   "name": "python",
   "nbconvert_exporter": "python",
   "pygments_lexer": "ipython3",
   "version": "3.8.5"
  },
  "orig_nbformat": 4,
  "kernelspec": {
   "name": "python3",
   "display_name": "Python 3.8.5 64-bit ('packet-format-BNGnpdnP-py3.8': poetry)"
  },
  "interpreter": {
   "hash": "c678cb7250e5a6b4234b9d5ea81a2bad499f6ac02d1329fa07d9de7a2899e0bf"
  }
 },
 "nbformat": 4,
 "nbformat_minor": 2,
 "cells": [
  {
   "cell_type": "code",
   "execution_count": 1,
   "metadata": {},
   "outputs": [
    {
     "output_type": "execute_result",
     "data": {
      "text/plain": [
       "5863"
      ]
     },
     "metadata": {},
     "execution_count": 1
    }
   ],
   "source": [
    "import datetime\n",
    "import re\n",
    "from gridstream.protocol import Frame\n",
    "from rich.jupyter import print\n",
    "\n",
    "\n",
    "path='F03B9FFB.txt'\n",
    "records=[]\n",
    "with open(path,'rt') as f:\n",
    "    for l in f:\n",
    "        r=l.split(' ',1)\n",
    "        r[0]=Frame.from_bytes(bytes.fromhex(r[0]))\n",
    "        r[1]=re.sub('\\s+',' ',r[1])\n",
    "        r[1]=datetime.datetime.strptime(r[1].strip(),'%a %b %d %H:%M:%S %Y')\n",
    "        records.append(r)\n",
    "\n",
    "len(records)\n",
    "        "
   ]
  },
  {
   "cell_type": "code",
   "execution_count": 2,
   "metadata": {},
   "outputs": [
    {
     "output_type": "display_data",
     "data": {
      "text/plain": "\u001b[1m[\u001b[0m\n    \u001b[1m<\u001b[0m\u001b[1;95mgridstream.protocol.frame.RoutingFrame\u001b[0m\u001b[39m object at \u001b[0m\u001b[1;36m0x7fb6e0629670\u001b[0m\u001b[1m>\u001b[0m,\n    \u001b[1;35mdatetime.datetime\u001b[0m\u001b[1m(\u001b[0m\u001b[1;36m2021\u001b[0m, \u001b[1;36m3\u001b[0m, \u001b[1;36m1\u001b[0m, \u001b[1;36m8\u001b[0m, \u001b[1;36m41\u001b[0m, \u001b[1;36m30\u001b[0m\u001b[1m)\u001b[0m\n\u001b[1m]\u001b[0m\n",
      "text/html": "<pre style=\"white-space:pre;overflow-x:auto;line-height:normal;font-family:Menlo,'DejaVu Sans Mono',consolas,'Courier New',monospace\"><span style=\"font-weight: bold\">[</span>\n    <span style=\"font-weight: bold\">&lt;</span><span style=\"color: #ff00ff; text-decoration-color: #ff00ff; font-weight: bold\">gridstream.protocol.frame.RoutingFrame</span><span style=\"color: #000000; text-decoration-color: #000000\"> object at </span><span style=\"color: #008080; text-decoration-color: #008080; font-weight: bold\">0x7fb6e0629670</span><span style=\"font-weight: bold\">&gt;</span>,\n    <span style=\"color: #800080; text-decoration-color: #800080; font-weight: bold\">datetime.datetime</span><span style=\"font-weight: bold\">(</span><span style=\"color: #008080; text-decoration-color: #008080; font-weight: bold\">2021</span>, <span style=\"color: #008080; text-decoration-color: #008080; font-weight: bold\">3</span>, <span style=\"color: #008080; text-decoration-color: #008080; font-weight: bold\">1</span>, <span style=\"color: #008080; text-decoration-color: #008080; font-weight: bold\">8</span>, <span style=\"color: #008080; text-decoration-color: #008080; font-weight: bold\">41</span>, <span style=\"color: #008080; text-decoration-color: #008080; font-weight: bold\">30</span><span style=\"font-weight: bold\">)</span>\n<span style=\"font-weight: bold\">]</span>\n</pre>\n"
     },
     "metadata": {}
    },
    {
     "output_type": "display_data",
     "data": {
      "text/plain": "\u001b[1m[\u001b[0m\n    \u001b[1m<\u001b[0m\u001b[1;95mgridstream.protocol.frame.RoutingFrame\u001b[0m\u001b[39m object at \u001b[0m\u001b[1;36m0x7fb6e062d0a0\u001b[0m\u001b[1m>\u001b[0m,\n    \u001b[1;35mdatetime.datetime\u001b[0m\u001b[1m(\u001b[0m\u001b[1;36m2021\u001b[0m, \u001b[1;36m3\u001b[0m, \u001b[1;36m1\u001b[0m, \u001b[1;36m8\u001b[0m, \u001b[1;36m41\u001b[0m, \u001b[1;36m48\u001b[0m\u001b[1m)\u001b[0m\n\u001b[1m]\u001b[0m\n",
      "text/html": "<pre style=\"white-space:pre;overflow-x:auto;line-height:normal;font-family:Menlo,'DejaVu Sans Mono',consolas,'Courier New',monospace\"><span style=\"font-weight: bold\">[</span>\n    <span style=\"font-weight: bold\">&lt;</span><span style=\"color: #ff00ff; text-decoration-color: #ff00ff; font-weight: bold\">gridstream.protocol.frame.RoutingFrame</span><span style=\"color: #000000; text-decoration-color: #000000\"> object at </span><span style=\"color: #008080; text-decoration-color: #008080; font-weight: bold\">0x7fb6e062d0a0</span><span style=\"font-weight: bold\">&gt;</span>,\n    <span style=\"color: #800080; text-decoration-color: #800080; font-weight: bold\">datetime.datetime</span><span style=\"font-weight: bold\">(</span><span style=\"color: #008080; text-decoration-color: #008080; font-weight: bold\">2021</span>, <span style=\"color: #008080; text-decoration-color: #008080; font-weight: bold\">3</span>, <span style=\"color: #008080; text-decoration-color: #008080; font-weight: bold\">1</span>, <span style=\"color: #008080; text-decoration-color: #008080; font-weight: bold\">8</span>, <span style=\"color: #008080; text-decoration-color: #008080; font-weight: bold\">41</span>, <span style=\"color: #008080; text-decoration-color: #008080; font-weight: bold\">48</span><span style=\"font-weight: bold\">)</span>\n<span style=\"font-weight: bold\">]</span>\n</pre>\n"
     },
     "metadata": {}
    },
    {
     "output_type": "display_data",
     "data": {
      "text/plain": "\u001b[1m[\u001b[0m\n    \u001b[1m<\u001b[0m\u001b[1;95mgridstream.protocol.frame.RoutingFrame\u001b[0m\u001b[39m object at \u001b[0m\u001b[1;36m0x7fb6e03dd9d0\u001b[0m\u001b[1m>\u001b[0m,\n    \u001b[1;35mdatetime.datetime\u001b[0m\u001b[1m(\u001b[0m\u001b[1;36m2021\u001b[0m, \u001b[1;36m3\u001b[0m, \u001b[1;36m1\u001b[0m, \u001b[1;36m8\u001b[0m, \u001b[1;36m42\u001b[0m, \u001b[1;36m28\u001b[0m\u001b[1m)\u001b[0m\n\u001b[1m]\u001b[0m\n",
      "text/html": "<pre style=\"white-space:pre;overflow-x:auto;line-height:normal;font-family:Menlo,'DejaVu Sans Mono',consolas,'Courier New',monospace\"><span style=\"font-weight: bold\">[</span>\n    <span style=\"font-weight: bold\">&lt;</span><span style=\"color: #ff00ff; text-decoration-color: #ff00ff; font-weight: bold\">gridstream.protocol.frame.RoutingFrame</span><span style=\"color: #000000; text-decoration-color: #000000\"> object at </span><span style=\"color: #008080; text-decoration-color: #008080; font-weight: bold\">0x7fb6e03dd9d0</span><span style=\"font-weight: bold\">&gt;</span>,\n    <span style=\"color: #800080; text-decoration-color: #800080; font-weight: bold\">datetime.datetime</span><span style=\"font-weight: bold\">(</span><span style=\"color: #008080; text-decoration-color: #008080; font-weight: bold\">2021</span>, <span style=\"color: #008080; text-decoration-color: #008080; font-weight: bold\">3</span>, <span style=\"color: #008080; text-decoration-color: #008080; font-weight: bold\">1</span>, <span style=\"color: #008080; text-decoration-color: #008080; font-weight: bold\">8</span>, <span style=\"color: #008080; text-decoration-color: #008080; font-weight: bold\">42</span>, <span style=\"color: #008080; text-decoration-color: #008080; font-weight: bold\">28</span><span style=\"font-weight: bold\">)</span>\n<span style=\"font-weight: bold\">]</span>\n</pre>\n"
     },
     "metadata": {}
    },
    {
     "output_type": "display_data",
     "data": {
      "text/plain": "\u001b[1m[\u001b[0m\n    \u001b[1m<\u001b[0m\u001b[1;95mgridstream.protocol.frame.RoutingFrame\u001b[0m\u001b[39m object at \u001b[0m\u001b[1;36m0x7fb6e03dd5b0\u001b[0m\u001b[1m>\u001b[0m,\n    \u001b[1;35mdatetime.datetime\u001b[0m\u001b[1m(\u001b[0m\u001b[1;36m2021\u001b[0m, \u001b[1;36m3\u001b[0m, \u001b[1;36m1\u001b[0m, \u001b[1;36m8\u001b[0m, \u001b[1;36m42\u001b[0m, \u001b[1;36m38\u001b[0m\u001b[1m)\u001b[0m\n\u001b[1m]\u001b[0m\n",
      "text/html": "<pre style=\"white-space:pre;overflow-x:auto;line-height:normal;font-family:Menlo,'DejaVu Sans Mono',consolas,'Courier New',monospace\"><span style=\"font-weight: bold\">[</span>\n    <span style=\"font-weight: bold\">&lt;</span><span style=\"color: #ff00ff; text-decoration-color: #ff00ff; font-weight: bold\">gridstream.protocol.frame.RoutingFrame</span><span style=\"color: #000000; text-decoration-color: #000000\"> object at </span><span style=\"color: #008080; text-decoration-color: #008080; font-weight: bold\">0x7fb6e03dd5b0</span><span style=\"font-weight: bold\">&gt;</span>,\n    <span style=\"color: #800080; text-decoration-color: #800080; font-weight: bold\">datetime.datetime</span><span style=\"font-weight: bold\">(</span><span style=\"color: #008080; text-decoration-color: #008080; font-weight: bold\">2021</span>, <span style=\"color: #008080; text-decoration-color: #008080; font-weight: bold\">3</span>, <span style=\"color: #008080; text-decoration-color: #008080; font-weight: bold\">1</span>, <span style=\"color: #008080; text-decoration-color: #008080; font-weight: bold\">8</span>, <span style=\"color: #008080; text-decoration-color: #008080; font-weight: bold\">42</span>, <span style=\"color: #008080; text-decoration-color: #008080; font-weight: bold\">38</span><span style=\"font-weight: bold\">)</span>\n<span style=\"font-weight: bold\">]</span>\n</pre>\n"
     },
     "metadata": {}
    },
    {
     "output_type": "display_data",
     "data": {
      "text/plain": "\u001b[1m[\u001b[0m\n    \u001b[1m<\u001b[0m\u001b[1;95mgridstream.protocol.frame.RoutingFrame\u001b[0m\u001b[39m object at \u001b[0m\u001b[1;36m0x7fb6e03dd670\u001b[0m\u001b[1m>\u001b[0m,\n    \u001b[1;35mdatetime.datetime\u001b[0m\u001b[1m(\u001b[0m\u001b[1;36m2021\u001b[0m, \u001b[1;36m3\u001b[0m, \u001b[1;36m1\u001b[0m, \u001b[1;36m8\u001b[0m, \u001b[1;36m43\u001b[0m, \u001b[1;36m17\u001b[0m\u001b[1m)\u001b[0m\n\u001b[1m]\u001b[0m\n",
      "text/html": "<pre style=\"white-space:pre;overflow-x:auto;line-height:normal;font-family:Menlo,'DejaVu Sans Mono',consolas,'Courier New',monospace\"><span style=\"font-weight: bold\">[</span>\n    <span style=\"font-weight: bold\">&lt;</span><span style=\"color: #ff00ff; text-decoration-color: #ff00ff; font-weight: bold\">gridstream.protocol.frame.RoutingFrame</span><span style=\"color: #000000; text-decoration-color: #000000\"> object at </span><span style=\"color: #008080; text-decoration-color: #008080; font-weight: bold\">0x7fb6e03dd670</span><span style=\"font-weight: bold\">&gt;</span>,\n    <span style=\"color: #800080; text-decoration-color: #800080; font-weight: bold\">datetime.datetime</span><span style=\"font-weight: bold\">(</span><span style=\"color: #008080; text-decoration-color: #008080; font-weight: bold\">2021</span>, <span style=\"color: #008080; text-decoration-color: #008080; font-weight: bold\">3</span>, <span style=\"color: #008080; text-decoration-color: #008080; font-weight: bold\">1</span>, <span style=\"color: #008080; text-decoration-color: #008080; font-weight: bold\">8</span>, <span style=\"color: #008080; text-decoration-color: #008080; font-weight: bold\">43</span>, <span style=\"color: #008080; text-decoration-color: #008080; font-weight: bold\">17</span><span style=\"font-weight: bold\">)</span>\n<span style=\"font-weight: bold\">]</span>\n</pre>\n"
     },
     "metadata": {}
    },
    {
     "output_type": "display_data",
     "data": {
      "text/plain": "\u001b[1m[\u001b[0m\n    \u001b[1m<\u001b[0m\u001b[1;95mgridstream.protocol.frame.DataFrame\u001b[0m\u001b[39m object at \u001b[0m\u001b[1;36m0x7fb6e03dd760\u001b[0m\u001b[1m>\u001b[0m,\n    \u001b[1;35mdatetime.datetime\u001b[0m\u001b[1m(\u001b[0m\u001b[1;36m2021\u001b[0m, \u001b[1;36m3\u001b[0m, \u001b[1;36m1\u001b[0m, \u001b[1;36m8\u001b[0m, \u001b[1;36m43\u001b[0m, \u001b[1;36m20\u001b[0m\u001b[1m)\u001b[0m\n\u001b[1m]\u001b[0m\n",
      "text/html": "<pre style=\"white-space:pre;overflow-x:auto;line-height:normal;font-family:Menlo,'DejaVu Sans Mono',consolas,'Courier New',monospace\"><span style=\"font-weight: bold\">[</span>\n    <span style=\"font-weight: bold\">&lt;</span><span style=\"color: #ff00ff; text-decoration-color: #ff00ff; font-weight: bold\">gridstream.protocol.frame.DataFrame</span><span style=\"color: #000000; text-decoration-color: #000000\"> object at </span><span style=\"color: #008080; text-decoration-color: #008080; font-weight: bold\">0x7fb6e03dd760</span><span style=\"font-weight: bold\">&gt;</span>,\n    <span style=\"color: #800080; text-decoration-color: #800080; font-weight: bold\">datetime.datetime</span><span style=\"font-weight: bold\">(</span><span style=\"color: #008080; text-decoration-color: #008080; font-weight: bold\">2021</span>, <span style=\"color: #008080; text-decoration-color: #008080; font-weight: bold\">3</span>, <span style=\"color: #008080; text-decoration-color: #008080; font-weight: bold\">1</span>, <span style=\"color: #008080; text-decoration-color: #008080; font-weight: bold\">8</span>, <span style=\"color: #008080; text-decoration-color: #008080; font-weight: bold\">43</span>, <span style=\"color: #008080; text-decoration-color: #008080; font-weight: bold\">20</span><span style=\"font-weight: bold\">)</span>\n<span style=\"font-weight: bold\">]</span>\n</pre>\n"
     },
     "metadata": {}
    },
    {
     "output_type": "display_data",
     "data": {
      "text/plain": "\u001b[1m[\u001b[0m\n    \u001b[1m<\u001b[0m\u001b[1;95mgridstream.protocol.frame.RoutingFrame\u001b[0m\u001b[39m object at \u001b[0m\u001b[1;36m0x7fb6e03dd820\u001b[0m\u001b[1m>\u001b[0m,\n    \u001b[1;35mdatetime.datetime\u001b[0m\u001b[1m(\u001b[0m\u001b[1;36m2021\u001b[0m, \u001b[1;36m3\u001b[0m, \u001b[1;36m1\u001b[0m, \u001b[1;36m8\u001b[0m, \u001b[1;36m43\u001b[0m, \u001b[1;36m27\u001b[0m\u001b[1m)\u001b[0m\n\u001b[1m]\u001b[0m\n",
      "text/html": "<pre style=\"white-space:pre;overflow-x:auto;line-height:normal;font-family:Menlo,'DejaVu Sans Mono',consolas,'Courier New',monospace\"><span style=\"font-weight: bold\">[</span>\n    <span style=\"font-weight: bold\">&lt;</span><span style=\"color: #ff00ff; text-decoration-color: #ff00ff; font-weight: bold\">gridstream.protocol.frame.RoutingFrame</span><span style=\"color: #000000; text-decoration-color: #000000\"> object at </span><span style=\"color: #008080; text-decoration-color: #008080; font-weight: bold\">0x7fb6e03dd820</span><span style=\"font-weight: bold\">&gt;</span>,\n    <span style=\"color: #800080; text-decoration-color: #800080; font-weight: bold\">datetime.datetime</span><span style=\"font-weight: bold\">(</span><span style=\"color: #008080; text-decoration-color: #008080; font-weight: bold\">2021</span>, <span style=\"color: #008080; text-decoration-color: #008080; font-weight: bold\">3</span>, <span style=\"color: #008080; text-decoration-color: #008080; font-weight: bold\">1</span>, <span style=\"color: #008080; text-decoration-color: #008080; font-weight: bold\">8</span>, <span style=\"color: #008080; text-decoration-color: #008080; font-weight: bold\">43</span>, <span style=\"color: #008080; text-decoration-color: #008080; font-weight: bold\">27</span><span style=\"font-weight: bold\">)</span>\n<span style=\"font-weight: bold\">]</span>\n</pre>\n"
     },
     "metadata": {}
    },
    {
     "output_type": "display_data",
     "data": {
      "text/plain": "\u001b[1m[\u001b[0m\n    \u001b[1m<\u001b[0m\u001b[1;95mgridstream.protocol.frame.RoutingFrame\u001b[0m\u001b[39m object at \u001b[0m\u001b[1;36m0x7fb6e03dd8e0\u001b[0m\u001b[1m>\u001b[0m,\n    \u001b[1;35mdatetime.datetime\u001b[0m\u001b[1m(\u001b[0m\u001b[1;36m2021\u001b[0m, \u001b[1;36m3\u001b[0m, \u001b[1;36m1\u001b[0m, \u001b[1;36m8\u001b[0m, \u001b[1;36m43\u001b[0m, \u001b[1;36m36\u001b[0m\u001b[1m)\u001b[0m\n\u001b[1m]\u001b[0m\n",
      "text/html": "<pre style=\"white-space:pre;overflow-x:auto;line-height:normal;font-family:Menlo,'DejaVu Sans Mono',consolas,'Courier New',monospace\"><span style=\"font-weight: bold\">[</span>\n    <span style=\"font-weight: bold\">&lt;</span><span style=\"color: #ff00ff; text-decoration-color: #ff00ff; font-weight: bold\">gridstream.protocol.frame.RoutingFrame</span><span style=\"color: #000000; text-decoration-color: #000000\"> object at </span><span style=\"color: #008080; text-decoration-color: #008080; font-weight: bold\">0x7fb6e03dd8e0</span><span style=\"font-weight: bold\">&gt;</span>,\n    <span style=\"color: #800080; text-decoration-color: #800080; font-weight: bold\">datetime.datetime</span><span style=\"font-weight: bold\">(</span><span style=\"color: #008080; text-decoration-color: #008080; font-weight: bold\">2021</span>, <span style=\"color: #008080; text-decoration-color: #008080; font-weight: bold\">3</span>, <span style=\"color: #008080; text-decoration-color: #008080; font-weight: bold\">1</span>, <span style=\"color: #008080; text-decoration-color: #008080; font-weight: bold\">8</span>, <span style=\"color: #008080; text-decoration-color: #008080; font-weight: bold\">43</span>, <span style=\"color: #008080; text-decoration-color: #008080; font-weight: bold\">36</span><span style=\"font-weight: bold\">)</span>\n<span style=\"font-weight: bold\">]</span>\n</pre>\n"
     },
     "metadata": {}
    },
    {
     "output_type": "display_data",
     "data": {
      "text/plain": "\u001b[1m[\u001b[0m\n    \u001b[1m<\u001b[0m\u001b[1;95mgridstream.protocol.frame.DataFrame\u001b[0m\u001b[39m object at \u001b[0m\u001b[1;36m0x7fb6e03dda30\u001b[0m\u001b[1m>\u001b[0m,\n    \u001b[1;35mdatetime.datetime\u001b[0m\u001b[1m(\u001b[0m\u001b[1;36m2021\u001b[0m, \u001b[1;36m3\u001b[0m, \u001b[1;36m1\u001b[0m, \u001b[1;36m8\u001b[0m, \u001b[1;36m43\u001b[0m, \u001b[1;36m36\u001b[0m\u001b[1m)\u001b[0m\n\u001b[1m]\u001b[0m\n",
      "text/html": "<pre style=\"white-space:pre;overflow-x:auto;line-height:normal;font-family:Menlo,'DejaVu Sans Mono',consolas,'Courier New',monospace\"><span style=\"font-weight: bold\">[</span>\n    <span style=\"font-weight: bold\">&lt;</span><span style=\"color: #ff00ff; text-decoration-color: #ff00ff; font-weight: bold\">gridstream.protocol.frame.DataFrame</span><span style=\"color: #000000; text-decoration-color: #000000\"> object at </span><span style=\"color: #008080; text-decoration-color: #008080; font-weight: bold\">0x7fb6e03dda30</span><span style=\"font-weight: bold\">&gt;</span>,\n    <span style=\"color: #800080; text-decoration-color: #800080; font-weight: bold\">datetime.datetime</span><span style=\"font-weight: bold\">(</span><span style=\"color: #008080; text-decoration-color: #008080; font-weight: bold\">2021</span>, <span style=\"color: #008080; text-decoration-color: #008080; font-weight: bold\">3</span>, <span style=\"color: #008080; text-decoration-color: #008080; font-weight: bold\">1</span>, <span style=\"color: #008080; text-decoration-color: #008080; font-weight: bold\">8</span>, <span style=\"color: #008080; text-decoration-color: #008080; font-weight: bold\">43</span>, <span style=\"color: #008080; text-decoration-color: #008080; font-weight: bold\">36</span><span style=\"font-weight: bold\">)</span>\n<span style=\"font-weight: bold\">]</span>\n</pre>\n"
     },
     "metadata": {}
    },
    {
     "output_type": "display_data",
     "data": {
      "text/plain": "\u001b[1m[\u001b[0m\n    \u001b[1m<\u001b[0m\u001b[1;95mgridstream.protocol.frame.DataFrame\u001b[0m\u001b[39m object at \u001b[0m\u001b[1;36m0x7fb6e03ddac0\u001b[0m\u001b[1m>\u001b[0m,\n    \u001b[1;35mdatetime.datetime\u001b[0m\u001b[1m(\u001b[0m\u001b[1;36m2021\u001b[0m, \u001b[1;36m3\u001b[0m, \u001b[1;36m1\u001b[0m, \u001b[1;36m8\u001b[0m, \u001b[1;36m43\u001b[0m, \u001b[1;36m45\u001b[0m\u001b[1m)\u001b[0m\n\u001b[1m]\u001b[0m\n",
      "text/html": "<pre style=\"white-space:pre;overflow-x:auto;line-height:normal;font-family:Menlo,'DejaVu Sans Mono',consolas,'Courier New',monospace\"><span style=\"font-weight: bold\">[</span>\n    <span style=\"font-weight: bold\">&lt;</span><span style=\"color: #ff00ff; text-decoration-color: #ff00ff; font-weight: bold\">gridstream.protocol.frame.DataFrame</span><span style=\"color: #000000; text-decoration-color: #000000\"> object at </span><span style=\"color: #008080; text-decoration-color: #008080; font-weight: bold\">0x7fb6e03ddac0</span><span style=\"font-weight: bold\">&gt;</span>,\n    <span style=\"color: #800080; text-decoration-color: #800080; font-weight: bold\">datetime.datetime</span><span style=\"font-weight: bold\">(</span><span style=\"color: #008080; text-decoration-color: #008080; font-weight: bold\">2021</span>, <span style=\"color: #008080; text-decoration-color: #008080; font-weight: bold\">3</span>, <span style=\"color: #008080; text-decoration-color: #008080; font-weight: bold\">1</span>, <span style=\"color: #008080; text-decoration-color: #008080; font-weight: bold\">8</span>, <span style=\"color: #008080; text-decoration-color: #008080; font-weight: bold\">43</span>, <span style=\"color: #008080; text-decoration-color: #008080; font-weight: bold\">45</span><span style=\"font-weight: bold\">)</span>\n<span style=\"font-weight: bold\">]</span>\n</pre>\n"
     },
     "metadata": {}
    }
   ],
   "source": [
    "for r in records[:10]:\n",
    "    print(r)"
   ]
  },
  {
   "cell_type": "code",
   "execution_count": 3,
   "metadata": {},
   "outputs": [
    {
     "output_type": "execute_result",
     "data": {
      "text/plain": [
       "<gridstream.protocol.frame.RoutingFrame at 0x7fb6e0629670>"
      ]
     },
     "metadata": {},
     "execution_count": 3
    }
   ],
   "source": [
    "from gridstream.protocol import Frame\n",
    "\n",
    "frame=records[0][0]\n",
    "\n",
    "frame\n"
   ]
  },
  {
   "cell_type": "code",
   "execution_count": 4,
   "metadata": {},
   "outputs": [
    {
     "output_type": "execute_result",
     "data": {
      "text/plain": [
       "'30ffffffffffff50cfb5d9e40070000c3582a483f03b9ffb01001e320414c37e90'"
      ]
     },
     "metadata": {},
     "execution_count": 4
    }
   ],
   "source": [
    "frame.data_bytes.hex()"
   ]
  },
  {
   "cell_type": "code",
   "execution_count": 5,
   "metadata": {},
   "outputs": [
    {
     "output_type": "execute_result",
     "data": {
      "text/plain": [
       "<gridstream.protocol.packets.routing.ARPPacket at 0x7fb6e01bda90>"
      ]
     },
     "metadata": {},
     "execution_count": 5
    }
   ],
   "source": [
    "frame.packet"
   ]
  },
  {
   "cell_type": "code",
   "execution_count": 6,
   "metadata": {},
   "outputs": [
    {
     "output_type": "execute_result",
     "data": {
      "text/plain": [
       "5315"
      ]
     },
     "metadata": {},
     "execution_count": 6
    }
   ],
   "source": [
    "frame.packet.timing"
   ]
  },
  {
   "cell_type": "code",
   "execution_count": 7,
   "metadata": {},
   "outputs": [
    {
     "output_type": "execute_result",
     "data": {
      "text/plain": [
       "('7e90', '30ffffffffffff50cfb5d9e40070000c3582a483f03b9ffb01001e320414c37e90')"
      ]
     },
     "metadata": {},
     "execution_count": 7
    }
   ],
   "source": [
    "packet=frame.packet\n",
    "cls=packet.__class__\n",
    "packet.bytes[cls.timing.end:].hex(),packet.bytes.hex()"
   ]
  },
  {
   "cell_type": "code",
   "execution_count": 8,
   "metadata": {},
   "outputs": [
    {
     "output_type": "display_data",
     "data": {
      "text/plain": "ARPPacket Packet contains \u001b[1;36m33\u001b[0m bytes\n┏━━━━━━━━┳━━━━━━━━━━━━━┳━━━━━━━━━━━━┳━━━━━━━━━━━━━━┳━━━━━━━━━━━━━━━━━━━━━━━━━━━━━┓\n┃\u001b[1m \u001b[0m\u001b[1mOffset\u001b[0m\u001b[1m \u001b[0m┃\u001b[1m \u001b[0m\u001b[1mField Name \u001b[0m\u001b[1m \u001b[0m┃\u001b[1m \u001b[0m\u001b[1mByte range\u001b[0m\u001b[1m \u001b[0m┃\u001b[1m \u001b[0m\u001b[1mBytes       \u001b[0m\u001b[1m \u001b[0m┃\u001b[1m \u001b[0m\u001b[1mValue                      \u001b[0m\u001b[1m \u001b[0m┃\n┡━━━━━━━━╇━━━━━━━━━━━━━╇━━━━━━━━━━━━╇━━━━━━━━━━━━━━╇━━━━━━━━━━━━━━━━━━━━━━━━━━━━━┩\n│   0    │ packet_type │ 0-1        │ 30           │ 48                          │\n│   1    │ destination │ 1-7        │ ffffffffffff │ b'\\xff\\xff\\xff\\xff\\xff\\xff' │\n│   7    │ source      │ 7-13       │ 50cfb5d9e400 │ b'P\\xcf\\xb5\\xd9\\xe4\\x00'    │\n│  13    │ sequence    │ 13-14      │ 70           │ 112                         │\n│  14    │ uptime      │ 14-18      │ 000c3582     │ 800130                      │\n│  18    │ Unknown     │ 18-20      │ a483         │ None                        │\n│  20    │ lan_address │ 20-24      │ f03b9ffb     │ b'\\xf0;\\x9f\\xfb'            │\n│  24    │ Unknown     │ 24-29      │ 01001e3204   │ None                        │\n│  29    │ timing      │ 29-31      │ 14c3         │ 5315                        │\n│  31    │ tail        │ 31-None    │ 7e90         │ None                        │\n└────────┴─────────────┴────────────┴──────────────┴─────────────────────────────┘\n",
      "text/html": "<pre style=\"white-space:pre;overflow-x:auto;line-height:normal;font-family:Menlo,'DejaVu Sans Mono',consolas,'Courier New',monospace\">ARPPacket Packet contains <span style=\"color: #008080; text-decoration-color: #008080; font-weight: bold\">33</span> bytes\n┏━━━━━━━━┳━━━━━━━━━━━━━┳━━━━━━━━━━━━┳━━━━━━━━━━━━━━┳━━━━━━━━━━━━━━━━━━━━━━━━━━━━━┓\n┃<span style=\"font-weight: bold\"> Offset </span>┃<span style=\"font-weight: bold\"> Field Name  </span>┃<span style=\"font-weight: bold\"> Byte range </span>┃<span style=\"font-weight: bold\"> Bytes        </span>┃<span style=\"font-weight: bold\"> Value                       </span>┃\n┡━━━━━━━━╇━━━━━━━━━━━━━╇━━━━━━━━━━━━╇━━━━━━━━━━━━━━╇━━━━━━━━━━━━━━━━━━━━━━━━━━━━━┩\n│   0    │ packet_type │ 0-1        │ 30           │ 48                          │\n│   1    │ destination │ 1-7        │ ffffffffffff │ b'\\xff\\xff\\xff\\xff\\xff\\xff' │\n│   7    │ source      │ 7-13       │ 50cfb5d9e400 │ b'P\\xcf\\xb5\\xd9\\xe4\\x00'    │\n│  13    │ sequence    │ 13-14      │ 70           │ 112                         │\n│  14    │ uptime      │ 14-18      │ 000c3582     │ 800130                      │\n│  18    │ Unknown     │ 18-20      │ a483         │ None                        │\n│  20    │ lan_address │ 20-24      │ f03b9ffb     │ b'\\xf0;\\x9f\\xfb'            │\n│  24    │ Unknown     │ 24-29      │ 01001e3204   │ None                        │\n│  29    │ timing      │ 29-31      │ 14c3         │ 5315                        │\n│  31    │ tail        │ 31-None    │ 7e90         │ None                        │\n└────────┴─────────────┴────────────┴──────────────┴─────────────────────────────┘\n</pre>\n"
     },
     "metadata": {}
    }
   ],
   "source": [
    "print(packet)"
   ]
  },
  {
   "cell_type": "code",
   "execution_count": 9,
   "metadata": {},
   "outputs": [],
   "source": [
    "f=Frame.from_bytes(bytes.fromhex(\"00FF2AD5001729F0611C3EF03B9FFB399106009150FD3303EF16207458\"))"
   ]
  },
  {
   "cell_type": "code",
   "execution_count": 10,
   "metadata": {},
   "outputs": [],
   "source": [
    "packet=f.packet"
   ]
  },
  {
   "cell_type": "code",
   "execution_count": 11,
   "metadata": {},
   "outputs": [
    {
     "output_type": "display_data",
     "data": {
      "text/plain": "DataPacket Packet contains \u001b[1;36m21\u001b[0m bytes\n┏━━━━━━━━┳━━━━━━━━━━━━━┳━━━━━━━━━━━━┳━━━━━━━━━━━━━━━━━━━━━━━━━━┳━━━━━━━━━━━━━━━━━━┓\n┃\u001b[1m \u001b[0m\u001b[1mOffset\u001b[0m\u001b[1m \u001b[0m┃\u001b[1m \u001b[0m\u001b[1mField Name \u001b[0m\u001b[1m \u001b[0m┃\u001b[1m \u001b[0m\u001b[1mByte range\u001b[0m\u001b[1m \u001b[0m┃\u001b[1m \u001b[0m\u001b[1mBytes                   \u001b[0m\u001b[1m \u001b[0m┃\u001b[1m \u001b[0m\u001b[1mValue           \u001b[0m\u001b[1m \u001b[0m┃\n┡━━━━━━━━╇━━━━━━━━━━━━━╇━━━━━━━━━━━━╇━━━━━━━━━━━━━━━━━━━━━━━━━━╇━━━━━━━━━━━━━━━━━━┩\n│   0    │ packet_type │ 0-1        │ 29                       │ 41               │\n│   1    │ destination │ 1-5        │ f0611c3e                 │ b'\\xf0a\\x1c>'    │\n│   5    │ source      │ 5-9        │ f03b9ffb                 │ b'\\xf0;\\x9f\\xfb' │\n│   9    │ tail        │ 9-None     │ 399106009150fd3303ef1620 │ None             │\n└────────┴─────────────┴────────────┴──────────────────────────┴──────────────────┘\n",
      "text/html": "<pre style=\"white-space:pre;overflow-x:auto;line-height:normal;font-family:Menlo,'DejaVu Sans Mono',consolas,'Courier New',monospace\">DataPacket Packet contains <span style=\"color: #008080; text-decoration-color: #008080; font-weight: bold\">21</span> bytes\n┏━━━━━━━━┳━━━━━━━━━━━━━┳━━━━━━━━━━━━┳━━━━━━━━━━━━━━━━━━━━━━━━━━┳━━━━━━━━━━━━━━━━━━┓\n┃<span style=\"font-weight: bold\"> Offset </span>┃<span style=\"font-weight: bold\"> Field Name  </span>┃<span style=\"font-weight: bold\"> Byte range </span>┃<span style=\"font-weight: bold\"> Bytes                    </span>┃<span style=\"font-weight: bold\"> Value            </span>┃\n┡━━━━━━━━╇━━━━━━━━━━━━━╇━━━━━━━━━━━━╇━━━━━━━━━━━━━━━━━━━━━━━━━━╇━━━━━━━━━━━━━━━━━━┩\n│   0    │ packet_type │ 0-1        │ 29                       │ 41               │\n│   1    │ destination │ 1-5        │ f0611c3e                 │ b'\\xf0a\\x1c&gt;'    │\n│   5    │ source      │ 5-9        │ f03b9ffb                 │ b'\\xf0;\\x9f\\xfb' │\n│   9    │ tail        │ 9-None     │ 399106009150fd3303ef1620 │ None             │\n└────────┴─────────────┴────────────┴──────────────────────────┴──────────────────┘\n</pre>\n"
     },
     "metadata": {}
    }
   ],
   "source": [
    "print(packet)"
   ]
  },
  {
   "cell_type": "code",
   "execution_count": 12,
   "metadata": {},
   "outputs": [
    {
     "output_type": "execute_result",
     "data": {
      "text/plain": [
       "206"
      ]
     },
     "metadata": {},
     "execution_count": 12
    }
   ],
   "source": [
    "from gridstream.protocol.frame import DataFrame\n",
    "len([r for r in records if isinstance(r[0],DataFrame)])"
   ]
  },
  {
   "cell_type": "code",
   "execution_count": 17,
   "metadata": {},
   "outputs": [
    {
     "output_type": "display_data",
     "data": {
      "text/plain": "┏━━━━━┳━━━━━━━━━━━━┓\n┃\u001b[1m \u001b[0m\u001b[1mKey\u001b[0m\u001b[1m \u001b[0m┃\u001b[1m \u001b[0m\u001b[1mOccurences\u001b[0m\u001b[1m \u001b[0m┃\n┡━━━━━╇━━━━━━━━━━━━┩\n│ 15  │ 13         │\n│ 20  │ 43         │\n│ 21  │ 110        │\n│ 26  │ 20         │\n│ 27  │ 4          │\n│ 69  │ 10         │\n│ 251 │ 6          │\n└─────┴────────────┘\n",
      "text/html": "<pre style=\"white-space:pre;overflow-x:auto;line-height:normal;font-family:Menlo,'DejaVu Sans Mono',consolas,'Courier New',monospace\">┏━━━━━┳━━━━━━━━━━━━┓\n┃<span style=\"font-weight: bold\"> Key </span>┃<span style=\"font-weight: bold\"> Occurences </span>┃\n┡━━━━━╇━━━━━━━━━━━━┩\n│ 15  │ 13         │\n│ 20  │ 43         │\n│ 21  │ 110        │\n│ 26  │ 20         │\n│ 27  │ 4          │\n│ 69  │ 10         │\n│ 251 │ 6          │\n└─────┴────────────┘\n</pre>\n"
     },
     "metadata": {}
    }
   ],
   "source": [
    "from collections import Counter\n",
    "from rich.table import Table\n",
    "def counter_rich_table(counter,console,options):\n",
    "    table=Table('Key','Occurences')\n",
    "    for k in sorted(counter):\n",
    "        table.add_row(str(k),str(counter[k]))\n",
    "    yield(table)\n",
    "Counter.__rich_console__=counter_rich_table\n",
    "print('Record Lengths')\n",
    "c=Counter([r[0].length for r in records if isinstance(r[0],DataFrame)])\n",
    "print(c)\n"
   ]
  },
  {
   "cell_type": "code",
   "execution_count": 18,
   "metadata": {},
   "outputs": [
    {
     "output_type": "display_data",
     "data": {
      "text/plain": "┏━━━━━┳━━━━━━━━━━━━┓\n┃\u001b[1m \u001b[0m\u001b[1mKey\u001b[0m\u001b[1m \u001b[0m┃\u001b[1m \u001b[0m\u001b[1mOccurences\u001b[0m\u001b[1m \u001b[0m┃\n┡━━━━━╇━━━━━━━━━━━━┩\n│ 6   │ 8          │\n│ 11  │ 11         │\n│ 12  │ 64         │\n│ 17  │ 19         │\n│ 18  │ 4          │\n└─────┴────────────┘\n",
      "text/html": "<pre style=\"white-space:pre;overflow-x:auto;line-height:normal;font-family:Menlo,'DejaVu Sans Mono',consolas,'Courier New',monospace\">┏━━━━━┳━━━━━━━━━━━━┓\n┃<span style=\"font-weight: bold\"> Key </span>┃<span style=\"font-weight: bold\"> Occurences </span>┃\n┡━━━━━╇━━━━━━━━━━━━┩\n│ 6   │ 8          │\n│ 11  │ 11         │\n│ 12  │ 64         │\n│ 17  │ 19         │\n│ 18  │ 4          │\n└─────┴────────────┘\n</pre>\n"
     },
     "metadata": {}
    }
   ],
   "source": [
    "print('Subtype 0x29 Record Lengths')\n",
    "print(Counter([r[0].length for r in records if isinstance(r[0],DataFrame) and r[0].packet.packet_type==0x29]))"
   ]
  },
  {
   "cell_type": "code",
   "execution_count": 24,
   "metadata": {},
   "outputs": [
    {
     "output_type": "display_data",
     "data": {
      "text/plain": "┏━━━━━━━━━━━━━━━━━━━━━┳━━━━━━┳━━━━━━━━━━━━━┳━━━━━━━━━━┳━━━━━━━━━━┳━━━━━━━━━━━━━━━━━━━━━━━━━━┓\n┃\u001b[1m \u001b[0m\u001b[1mTimestamp          \u001b[0m\u001b[1m \u001b[0m┃\u001b[1m \u001b[0m\u001b[1mtype\u001b[0m\u001b[1m \u001b[0m┃\u001b[1m \u001b[0m\u001b[1mtype (bits)\u001b[0m\u001b[1m \u001b[0m┃\u001b[1m \u001b[0m\u001b[1mFrom    \u001b[0m\u001b[1m \u001b[0m┃\u001b[1m \u001b[0m\u001b[1mTo      \u001b[0m\u001b[1m \u001b[0m┃\u001b[1m \u001b[0m\u001b[1mUndecoded bytes         \u001b[0m\u001b[1m \u001b[0m┃\n┡━━━━━━━━━━━━━━━━━━━━━╇━━━━━━╇━━━━━━━━━━━━━╇━━━━━━━━━━╇━━━━━━━━━━╇━━━━━━━━━━━━━━━━━━━━━━━━━━┩\n│ 2021-03-01 09:55:38 │ 0x29 │ 00101001    │ f03b9ffb │ f0611c3e │ 819006009350027b34581600 │\n│ 2021-03-01 11:14:22 │ 0x21 │ 00100001    │ f03b9ffb │ f0611c3e │ 139006009b504bef3c201670 │\n│ 2021-03-01 11:30:45 │ 0x29 │ 00101001    │ f03b9ffb │ f0611c3e │ 259006008950cbf032541670 │\n│ 2021-03-01 12:14:13 │ 0x29 │ 00101001    │ f03b9ffb │ f0611c3e │ 459006009f50964113111620 │\n│ 2021-03-01 12:35:28 │ 0x29 │ 00101001    │ f03b9ffb │ f0611c3e │ e59006009750af5239d21670 │\n│ 2021-03-01 12:41:45 │ 0x21 │ 00100001    │ f03b9ffb │ f02ec34a │ 6c8801001e32040408351140 │\n│ 2021-03-01 12:59:07 │ 0x29 │ 00101001    │ f03b9ffb │ f0611c3e │ 159006009d50d51515761660 │\n│ 2021-03-01 13:21:14 │ 0x21 │ 00100001    │ f03b9ffb │ f0611c3e │ af9006009150fa0e0edf1670 │\n│ 2021-03-01 13:39:49 │ 0x29 │ 00101001    │ f03b9ffb │ f0611c3e │ 1190060097508be338851690 │\n│ 2021-03-01 13:57:45 │ 0x29 │ 00101001    │ f03b9ffb │ f0611c3e │ 279006009b508a5111741670 │\n│ 2021-03-01 13:59:45 │ 0x21 │ 00100001    │ f03b9ffb │ f0b0d132 │ 688801001e32040440791190 │\n│ 2021-03-01 14:30:46 │ 0x29 │ 00101001    │ f03b9ffb │ f0611c3e │ 399106009150fd3303ef1620 │\n│ 2021-03-01 15:15:58 │ 0x21 │ 00100001    │ f03b9ffb │ f04fbee7 │ a2880100246c04040d551370 │\n│ 2021-03-01 15:53:44 │ 0x21 │ 00100001    │ f03b9ffb │ f0620093 │ 36880100246c04042d581670 │\n│ 2021-03-01 18:17:26 │ 0x21 │ 00100001    │ f03b9ffb │ 8073ab83 │ b68801001e32040400d51380 │\n│ 2021-03-01 18:17:41 │ 0x29 │ 00101001    │ f03b9ffb │ 8073ab83 │ c28801001e32040406bf1390 │\n│ 2021-03-01 18:17:54 │ 0x29 │ 00101001    │ f03b9ffb │ 8073ab83 │ d28801001e3204040bf41340 │\n│ 2021-03-01 18:18:10 │ 0x29 │ 00101001    │ f03b9ffb │ 8073ab83 │ e48801001e32040411ff1330 │\n│ 2021-03-01 18:18:11 │ 0x29 │ 00101001    │ f03b9ffb │ 8073ab83 │ ea8801001e32040412711340 │\n│ 2021-03-01 18:18:18 │ 0x29 │ 00101001    │ f03b9ffb │ 8073ab83 │ f28801001e320404151b1380 │\n│ 2021-03-01 18:18:28 │ 0x29 │ 00101001    │ f03b9ffb │ 8073ab83 │ f88801001e32040419091330 │\n│ 2021-03-01 19:14:22 │ 0x29 │ 00101001    │ f03b9ffb │ f0611c3e │ 23900600a350815d16991610 │\n│ 2021-03-01 19:28:39 │ 0x29 │ 00101001    │ f03b9ffb │ f0611c3e │ e19006008850e8df1d521600 │\n│ 2021-03-01 19:35:11 │ 0x21 │ 00100001    │ f03b9ffb │ f0ee9d21 │ bc8801001f320404332b1940 │\n│ 2021-03-01 19:53:33 │ 0x21 │ 00100001    │ f03b9ffb │ 8073ab83 │ ec8801001f32040416511400 │\n│ 2021-03-01 19:53:46 │ 0x21 │ 00100001    │ f03b9ffb │ 8073ab83 │ 008801001f3204041b5f1490 │\n│ 2021-03-01 19:53:56 │ 0x21 │ 00100001    │ f03b9ffb │ 8073ab83 │ 088801001f3204041f4b1440 │\n│ 2021-03-01 19:54:11 │ 0x21 │ 00100001    │ f03b9ffb │ 8073ab83 │ 188801001f32040425211410 │\n│ 2021-03-01 19:54:12 │ 0x21 │ 00100001    │ f03b9ffb │ 8073ab83 │ 1e8801001f32040425931420 │\n│ 2021-03-01 19:54:14 │ 0x21 │ 00100001    │ f03b9ffb │ 8073ab83 │ 248801001f32040426691430 │\n│ 2021-03-01 19:54:16 │ 0x21 │ 00100001    │ f03b9ffb │ 8073ab83 │ 2a8801001f320404270d1440 │\n│ 2021-03-01 19:54:21 │ 0x21 │ 00100001    │ f03b9ffb │ 8073ab83 │ 308801001f320404290f1450 │\n│ 2021-03-01 19:54:23 │ 0x21 │ 00100001    │ f03b9ffb │ 8073ab83 │ 368801001f32040429a71400 │\n│ 2021-03-01 19:54:33 │ 0x21 │ 00100001    │ f03b9ffb │ 8073ab83 │ 488801001f3204042db81470 │\n│ 2021-03-01 19:54:43 │ 0x21 │ 00100001    │ f03b9ffb │ 8073ab83 │ 508801001f32040431ae1480 │\n│ 2021-03-01 19:54:58 │ 0x29 │ 00101001    │ f03b9ffb │ 8073ab83 │ 668801001f320404378e1410 │\n│ 2021-03-01 19:55:12 │ 0x29 │ 00101001    │ f03b9ffb │ 8073ab83 │ 6e8801001f3204043cc11410 │\n│ 2021-03-01 19:55:21 │ 0x29 │ 00101001    │ f03b9ffb │ 8073ab83 │ 7e8801001f32040440741450 │\n│ 2021-03-01 19:55:29 │ 0x29 │ 00101001    │ f03b9ffb │ 8073ab83 │ 848801001f32040401cf1400 │\n│ 2021-03-01 19:55:41 │ 0x29 │ 00101001    │ f03b9ffb │ 8073ab83 │ 8c8801001f32040406a31410 │\n│ 2021-03-01 19:55:43 │ 0x29 │ 00101001    │ f03b9ffb │ 8073ab83 │ 988801001f32040407791420 │\n│ 2021-03-01 19:55:52 │ 0x29 │ 00101001    │ f03b9ffb │ 8073ab83 │ a28801001f3204040b021410 │\n│ 2021-03-01 19:56:02 │ 0x29 │ 00101001    │ f03b9ffb │ 8073ab83 │ a88801001f3204040ed91490 │\n│ 2021-03-01 19:56:08 │ 0x29 │ 00101001    │ f03b9ffb │ 8073ab83 │ b88801001f320404114e1410 │\n│ 2021-03-01 19:56:10 │ 0x29 │ 00101001    │ f03b9ffb │ 8073ab83 │ c08801001f32040412241420 │\n│ 2021-03-01 19:56:13 │ 0x29 │ 00101001    │ f03b9ffb │ 8073ab83 │ c68801001f32040412ff1400 │\n│ 2021-03-01 20:36:29 │ 0x21 │ 00100001    │ f03b9ffb │ f0f8266f │ 8c8801001f6c04042c231480 │\n│ 2021-03-01 21:52:54 │ 0x21 │ 00100001    │ f03b9ffb │ f0b4ceda │ be8801001f6c04043f541790 │\n│ 2021-03-01 22:13:25 │ 0x29 │ 00101001    │ f03b9ffb │ f0611c3e │ 3d91060091504cad13001700 │\n│ 2021-03-02 01:39:48 │ 0x29 │ 00101001    │ f03b9ffb │ f0bcd31d │ 3990060091507f0200113f10 │\n│ 2021-03-02 02:08:50 │ 0x21 │ 00100001    │ f03b9ffb │ f0613066 │ c28801001e6c0404184a1c80 │\n│ 2021-03-02 03:14:12 │ 0x29 │ 00101001    │ f03b9ffb │ 40d0d00a │ 8b900600ee50d8592eeb2560 │\n│ 2021-03-02 03:29:18 │ 0x21 │ 00100001    │ f03b9ffb │ f04fbee7 │ 7e8801001e6c040407091950 │\n│ 2021-03-02 03:54:00 │ 0x21 │ 00100001    │ f03b9ffb │ f050307a │ 748801001f6c04043cf11160 │\n│ 2021-03-02 04:14:13 │ 0x29 │ 00101001    │ f03b9ffb │ 40d0d00a │ e990060093509b2e09dc2500 │\n│ 2021-03-02 04:28:31 │ 0x29 │ 00101001    │ f03b9ffb │ 40d0d00a │ 919006007d5085c510d62530 │\n│ 2021-03-02 05:52:57 │ 0x29 │ 00101001    │ f03b9ffb │ 40d0d00a │ 8f9006007b500deb1adb2560 │\n│ 2021-03-02 06:16:41 │ 0x21 │ 00100001    │ f03b9ffb │ f0e68017 │ 5a8801001e6c04043a351400 │\n│ 2021-03-02 06:16:51 │ 0x21 │ 00100001    │ f03b9ffb │ f05fe73e │ 628801001e6c04043e151470 │\n│ 2021-03-02 07:28:39 │ 0x29 │ 00101001    │ f03b9ffb │ 40d0d00a │ 3590060088501bcb26ab2590 │\n│ 2021-03-02 08:14:13 │ 0x29 │ 00101001    │ f03b9ffb │ 40d0d00a │ 9d9006009550632338aa2510 │\n│ 2021-03-02 09:26:58 │ 0x21 │ 00100001    │ f03b9ffb │ f133c5a4 │ 688801001f6c040437b01480 │\n│ 2021-03-02 09:39:36 │ 0x21 │ 00100001    │ f03b9ffb │ f10676d2 │ f68801001f6c040417781420 │\n│ 2021-03-02 10:22:37 │ 0x21 │ 00100001    │ f03b9ffb │ f02e5d7d │ 268801001f6c04042f4d1150 │\n│ 2021-03-02 12:15:56 │ 0x21 │ 00100001    │ f03b9ffb │ f04dd4c6 │ e28801001f6c04040c811120 │\n│ 2021-03-02 12:45:31 │ 0x21 │ 00100001    │ f03b9ffb │ 8073ad6e │ 6a8801001f32040431d41120 │\n│ 2021-03-02 12:45:37 │ 0x21 │ 00100001    │ f03b9ffb │ 8073ad6e │ 708801001f32040434051180 │\n│ 2021-03-02 12:45:38 │ 0x21 │ 00100001    │ f03b9ffb │ 8073ad6e │ 768801001f32040434771190 │\n│ 2021-03-02 12:45:48 │ 0x21 │ 00100001    │ f03b9ffb │ 8073ad6e │ 868801001f32040438521170 │\n│ 2021-03-02 12:45:59 │ 0x21 │ 00100001    │ f03b9ffb │ 8073ad6e │ 8e8801001f3204043c9e1170 │\n│ 2021-03-02 12:46:01 │ 0x29 │ 00101001    │ f03b9ffb │ 8073ad6e │ 948801001f3204043d741180 │\n│ 2021-03-02 12:46:17 │ 0x29 │ 00101001    │ f03b9ffb │ 8073ad6e │ a48801001f32040402221190 │\n│ 2021-03-02 12:46:18 │ 0x29 │ 00101001    │ f03b9ffb │ 8073ad6e │ aa8801001f32040402631170 │\n│ 2021-03-02 12:46:26 │ 0x29 │ 00101001    │ f03b9ffb │ 8073ad6e │ b08801001f32040405b01120 │\n│ 2021-03-02 12:46:34 │ 0x29 │ 00101001    │ f03b9ffb │ 8073ad6e │ c28801001f32040408af1170 │\n│ 2021-03-02 12:46:45 │ 0x29 │ 00101001    │ f03b9ffb │ 8073ad6e │ c88801001f3204040d101170 │\n│ 2021-03-02 12:46:59 │ 0x29 │ 00101001    │ f03b9ffb │ 8073ad6e │ d88801001f32040412941120 │\n│ 2021-03-02 12:47:06 │ 0x29 │ 00101001    │ f03b9ffb │ 8073ad6e │ e08801001f32040415461170 │\n│ 2021-03-02 12:47:09 │ 0x29 │ 00101001    │ f03b9ffb │ 8073ad6e │ e68801001f320404165f1170 │\n│ 2021-03-02 12:47:12 │ 0x29 │ 00101001    │ f03b9ffb │ 8073ad6e │ ec8801001f32040417991180 │\n│ 2021-03-02 12:47:17 │ 0x29 │ 00101001    │ f03b9ffb │ 8073ad6e │ f88801001f32040419781100 │\n│ 2021-03-02 12:47:27 │ 0x29 │ 00101001    │ f03b9ffb │ 8073ad6e │ 088801001f3204041d7f1170 │\n│ 2021-03-02 12:47:37 │ 0x29 │ 00101001    │ f03b9ffb │ 8073ad6e │ 0e8801001f32040421541170 │\n│ 2021-03-02 12:47:51 │ 0x29 │ 00101001    │ f03b9ffb │ 8073ad6e │ 288801001f32040426ce1170 │\n│ 2021-03-02 12:47:55 │ 0x29 │ 00101001    │ f03b9ffb │ 8073ad6e │ 2e8801001f32040428731170 │\n│ 2021-03-02 12:48:24 │ 0x29 │ 00101001    │ f03b9ffb │ 8073ad6e │ 448801001f32040433641170 │\n│ 2021-03-02 12:48:31 │ 0x29 │ 00101001    │ f03b9ffb │ 8073ad6e │ 4e8801001f32040436671170 │\n│ 2021-03-02 12:48:35 │ 0x29 │ 00101001    │ f03b9ffb │ 8073ad6e │ 5c8801001f320404380c1170 │\n│ 2021-03-02 12:48:47 │ 0x29 │ 00101001    │ f03b9ffb │ 8073ad6e │ 648801001f3204043c6d1170 │\n│ 2021-03-02 12:49:33 │ 0x21 │ 00100001    │ f03b9ffb │ f063cf35 │ 808801001f3204040d1c1420 │\n│ 2021-03-02 15:06:40 │ 0x21 │ 00100001    │ f03b9ffb │ f0b0047f │ 0a8801001e3204040af31690 │\n│ 2021-03-02 17:09:35 │ 0x21 │ 00100001    │ f03b9ffb │ f05086d0 │ 048801001f6c040404491170 │\n│ 2021-03-02 18:06:22 │ 0x29 │ 00101001    │ f03b9ffb │ f091461c │ d59006009a502a0916b12950 │\n│ 2021-03-02 18:26:05 │ 0x21 │ 00100001    │ f03b9ffb │ f0eae3c2 │ 228801001f6c040419631620 │\n│ 2021-03-02 19:05:28 │ 0x29 │ 00101001    │ f03b9ffb │ f091461c │ eb9006009850cddb1d9b2930 │\n│ 2021-03-02 19:14:22 │ 0x21 │ 00100001    │ f03b9ffb │ f091461c │ 119006009c500748295c2980 │\n│ 2021-03-02 19:19:45 │ 0x29 │ 00101001    │ f03b9ffb │ f091461c │ bf9006008850b8f5245c2950 │\n│ 2021-03-02 19:28:39 │ 0x29 │ 00101001    │ f03b9ffb │ f091461c │ d39006008850a43b30062940 │\n│ 2021-03-02 19:38:05 │ 0x29 │ 00101001    │ f03b9ffb │ f091461c │ 039006008f50e9a1067c2930 │\n│ 2021-03-02 19:52:24 │ 0x29 │ 00101001    │ f03b9ffb │ f091461c │ bb900600795078d00e002960 │\n│ 2021-03-02 20:44:25 │ 0x21 │ 00100001    │ f03b9ffb │ f0b4894d │ fe8801001f32040433ff1470 │\n│ 2021-03-02 21:16:34 │ 0x29 │ 00101001    │ f03b9ffb │ f091461c │ c991060091505d42122e2980 │\n│ 2021-03-02 21:17:20 │ 0x21 │ 00100001    │ f03b9ffb │ f0b4897b │ e68801001f32040423f11120 │\n│ 2021-03-02 21:22:43 │ 0x29 │ 00101001    │ f03b9ffb │ f091461c │ 999106008f50b0001eb32970 │\n│ 2021-03-02 22:16:00 │ 0x21 │ 00100001    │ f03b9ffb │ f0f95f1c │ 04880100206c040420cf1a90 │\n│ 2021-03-02 22:46:52 │ 0x21 │ 00100001    │ f03b9ffb │ f05361e7 │ cc880100206c0404226c1730 │\n│ 2021-03-03 04:55:11 │ 0x21 │ 00100001    │ f03b9ffb │ f0fed768 │ 708801001e32040404431370 │\n│ 2021-03-03 05:06:26 │ 0x21 │ 00100001    │ f03b9ffb │ f115ed71 │ cc8801001e320404057a1450 │\n│ 2021-03-03 05:55:11 │ 0x29 │ 00101001    │ f03b9ffb │ f091461c │ af9006009450f58320692970 │\n│ 2021-03-03 06:09:28 │ 0x29 │ 00101001    │ f03b9ffb │ f091461c │ 679006008850bffd27282960 │\n└─────────────────────┴──────┴─────────────┴──────────┴──────────┴──────────────────────────┘\n",
      "text/html": "<pre style=\"white-space:pre;overflow-x:auto;line-height:normal;font-family:Menlo,'DejaVu Sans Mono',consolas,'Courier New',monospace\">┏━━━━━━━━━━━━━━━━━━━━━┳━━━━━━┳━━━━━━━━━━━━━┳━━━━━━━━━━┳━━━━━━━━━━┳━━━━━━━━━━━━━━━━━━━━━━━━━━┓\n┃<span style=\"font-weight: bold\"> Timestamp           </span>┃<span style=\"font-weight: bold\"> type </span>┃<span style=\"font-weight: bold\"> type (bits) </span>┃<span style=\"font-weight: bold\"> From     </span>┃<span style=\"font-weight: bold\"> To       </span>┃<span style=\"font-weight: bold\"> Undecoded bytes          </span>┃\n┡━━━━━━━━━━━━━━━━━━━━━╇━━━━━━╇━━━━━━━━━━━━━╇━━━━━━━━━━╇━━━━━━━━━━╇━━━━━━━━━━━━━━━━━━━━━━━━━━┩\n│ 2021-03-01 09:55:38 │ 0x29 │ 00101001    │ f03b9ffb │ f0611c3e │ 819006009350027b34581600 │\n│ 2021-03-01 11:14:22 │ 0x21 │ 00100001    │ f03b9ffb │ f0611c3e │ 139006009b504bef3c201670 │\n│ 2021-03-01 11:30:45 │ 0x29 │ 00101001    │ f03b9ffb │ f0611c3e │ 259006008950cbf032541670 │\n│ 2021-03-01 12:14:13 │ 0x29 │ 00101001    │ f03b9ffb │ f0611c3e │ 459006009f50964113111620 │\n│ 2021-03-01 12:35:28 │ 0x29 │ 00101001    │ f03b9ffb │ f0611c3e │ e59006009750af5239d21670 │\n│ 2021-03-01 12:41:45 │ 0x21 │ 00100001    │ f03b9ffb │ f02ec34a │ 6c8801001e32040408351140 │\n│ 2021-03-01 12:59:07 │ 0x29 │ 00101001    │ f03b9ffb │ f0611c3e │ 159006009d50d51515761660 │\n│ 2021-03-01 13:21:14 │ 0x21 │ 00100001    │ f03b9ffb │ f0611c3e │ af9006009150fa0e0edf1670 │\n│ 2021-03-01 13:39:49 │ 0x29 │ 00101001    │ f03b9ffb │ f0611c3e │ 1190060097508be338851690 │\n│ 2021-03-01 13:57:45 │ 0x29 │ 00101001    │ f03b9ffb │ f0611c3e │ 279006009b508a5111741670 │\n│ 2021-03-01 13:59:45 │ 0x21 │ 00100001    │ f03b9ffb │ f0b0d132 │ 688801001e32040440791190 │\n│ 2021-03-01 14:30:46 │ 0x29 │ 00101001    │ f03b9ffb │ f0611c3e │ 399106009150fd3303ef1620 │\n│ 2021-03-01 15:15:58 │ 0x21 │ 00100001    │ f03b9ffb │ f04fbee7 │ a2880100246c04040d551370 │\n│ 2021-03-01 15:53:44 │ 0x21 │ 00100001    │ f03b9ffb │ f0620093 │ 36880100246c04042d581670 │\n│ 2021-03-01 18:17:26 │ 0x21 │ 00100001    │ f03b9ffb │ 8073ab83 │ b68801001e32040400d51380 │\n│ 2021-03-01 18:17:41 │ 0x29 │ 00101001    │ f03b9ffb │ 8073ab83 │ c28801001e32040406bf1390 │\n│ 2021-03-01 18:17:54 │ 0x29 │ 00101001    │ f03b9ffb │ 8073ab83 │ d28801001e3204040bf41340 │\n│ 2021-03-01 18:18:10 │ 0x29 │ 00101001    │ f03b9ffb │ 8073ab83 │ e48801001e32040411ff1330 │\n│ 2021-03-01 18:18:11 │ 0x29 │ 00101001    │ f03b9ffb │ 8073ab83 │ ea8801001e32040412711340 │\n│ 2021-03-01 18:18:18 │ 0x29 │ 00101001    │ f03b9ffb │ 8073ab83 │ f28801001e320404151b1380 │\n│ 2021-03-01 18:18:28 │ 0x29 │ 00101001    │ f03b9ffb │ 8073ab83 │ f88801001e32040419091330 │\n│ 2021-03-01 19:14:22 │ 0x29 │ 00101001    │ f03b9ffb │ f0611c3e │ 23900600a350815d16991610 │\n│ 2021-03-01 19:28:39 │ 0x29 │ 00101001    │ f03b9ffb │ f0611c3e │ e19006008850e8df1d521600 │\n│ 2021-03-01 19:35:11 │ 0x21 │ 00100001    │ f03b9ffb │ f0ee9d21 │ bc8801001f320404332b1940 │\n│ 2021-03-01 19:53:33 │ 0x21 │ 00100001    │ f03b9ffb │ 8073ab83 │ ec8801001f32040416511400 │\n│ 2021-03-01 19:53:46 │ 0x21 │ 00100001    │ f03b9ffb │ 8073ab83 │ 008801001f3204041b5f1490 │\n│ 2021-03-01 19:53:56 │ 0x21 │ 00100001    │ f03b9ffb │ 8073ab83 │ 088801001f3204041f4b1440 │\n│ 2021-03-01 19:54:11 │ 0x21 │ 00100001    │ f03b9ffb │ 8073ab83 │ 188801001f32040425211410 │\n│ 2021-03-01 19:54:12 │ 0x21 │ 00100001    │ f03b9ffb │ 8073ab83 │ 1e8801001f32040425931420 │\n│ 2021-03-01 19:54:14 │ 0x21 │ 00100001    │ f03b9ffb │ 8073ab83 │ 248801001f32040426691430 │\n│ 2021-03-01 19:54:16 │ 0x21 │ 00100001    │ f03b9ffb │ 8073ab83 │ 2a8801001f320404270d1440 │\n│ 2021-03-01 19:54:21 │ 0x21 │ 00100001    │ f03b9ffb │ 8073ab83 │ 308801001f320404290f1450 │\n│ 2021-03-01 19:54:23 │ 0x21 │ 00100001    │ f03b9ffb │ 8073ab83 │ 368801001f32040429a71400 │\n│ 2021-03-01 19:54:33 │ 0x21 │ 00100001    │ f03b9ffb │ 8073ab83 │ 488801001f3204042db81470 │\n│ 2021-03-01 19:54:43 │ 0x21 │ 00100001    │ f03b9ffb │ 8073ab83 │ 508801001f32040431ae1480 │\n│ 2021-03-01 19:54:58 │ 0x29 │ 00101001    │ f03b9ffb │ 8073ab83 │ 668801001f320404378e1410 │\n│ 2021-03-01 19:55:12 │ 0x29 │ 00101001    │ f03b9ffb │ 8073ab83 │ 6e8801001f3204043cc11410 │\n│ 2021-03-01 19:55:21 │ 0x29 │ 00101001    │ f03b9ffb │ 8073ab83 │ 7e8801001f32040440741450 │\n│ 2021-03-01 19:55:29 │ 0x29 │ 00101001    │ f03b9ffb │ 8073ab83 │ 848801001f32040401cf1400 │\n│ 2021-03-01 19:55:41 │ 0x29 │ 00101001    │ f03b9ffb │ 8073ab83 │ 8c8801001f32040406a31410 │\n│ 2021-03-01 19:55:43 │ 0x29 │ 00101001    │ f03b9ffb │ 8073ab83 │ 988801001f32040407791420 │\n│ 2021-03-01 19:55:52 │ 0x29 │ 00101001    │ f03b9ffb │ 8073ab83 │ a28801001f3204040b021410 │\n│ 2021-03-01 19:56:02 │ 0x29 │ 00101001    │ f03b9ffb │ 8073ab83 │ a88801001f3204040ed91490 │\n│ 2021-03-01 19:56:08 │ 0x29 │ 00101001    │ f03b9ffb │ 8073ab83 │ b88801001f320404114e1410 │\n│ 2021-03-01 19:56:10 │ 0x29 │ 00101001    │ f03b9ffb │ 8073ab83 │ c08801001f32040412241420 │\n│ 2021-03-01 19:56:13 │ 0x29 │ 00101001    │ f03b9ffb │ 8073ab83 │ c68801001f32040412ff1400 │\n│ 2021-03-01 20:36:29 │ 0x21 │ 00100001    │ f03b9ffb │ f0f8266f │ 8c8801001f6c04042c231480 │\n│ 2021-03-01 21:52:54 │ 0x21 │ 00100001    │ f03b9ffb │ f0b4ceda │ be8801001f6c04043f541790 │\n│ 2021-03-01 22:13:25 │ 0x29 │ 00101001    │ f03b9ffb │ f0611c3e │ 3d91060091504cad13001700 │\n│ 2021-03-02 01:39:48 │ 0x29 │ 00101001    │ f03b9ffb │ f0bcd31d │ 3990060091507f0200113f10 │\n│ 2021-03-02 02:08:50 │ 0x21 │ 00100001    │ f03b9ffb │ f0613066 │ c28801001e6c0404184a1c80 │\n│ 2021-03-02 03:14:12 │ 0x29 │ 00101001    │ f03b9ffb │ 40d0d00a │ 8b900600ee50d8592eeb2560 │\n│ 2021-03-02 03:29:18 │ 0x21 │ 00100001    │ f03b9ffb │ f04fbee7 │ 7e8801001e6c040407091950 │\n│ 2021-03-02 03:54:00 │ 0x21 │ 00100001    │ f03b9ffb │ f050307a │ 748801001f6c04043cf11160 │\n│ 2021-03-02 04:14:13 │ 0x29 │ 00101001    │ f03b9ffb │ 40d0d00a │ e990060093509b2e09dc2500 │\n│ 2021-03-02 04:28:31 │ 0x29 │ 00101001    │ f03b9ffb │ 40d0d00a │ 919006007d5085c510d62530 │\n│ 2021-03-02 05:52:57 │ 0x29 │ 00101001    │ f03b9ffb │ 40d0d00a │ 8f9006007b500deb1adb2560 │\n│ 2021-03-02 06:16:41 │ 0x21 │ 00100001    │ f03b9ffb │ f0e68017 │ 5a8801001e6c04043a351400 │\n│ 2021-03-02 06:16:51 │ 0x21 │ 00100001    │ f03b9ffb │ f05fe73e │ 628801001e6c04043e151470 │\n│ 2021-03-02 07:28:39 │ 0x29 │ 00101001    │ f03b9ffb │ 40d0d00a │ 3590060088501bcb26ab2590 │\n│ 2021-03-02 08:14:13 │ 0x29 │ 00101001    │ f03b9ffb │ 40d0d00a │ 9d9006009550632338aa2510 │\n│ 2021-03-02 09:26:58 │ 0x21 │ 00100001    │ f03b9ffb │ f133c5a4 │ 688801001f6c040437b01480 │\n│ 2021-03-02 09:39:36 │ 0x21 │ 00100001    │ f03b9ffb │ f10676d2 │ f68801001f6c040417781420 │\n│ 2021-03-02 10:22:37 │ 0x21 │ 00100001    │ f03b9ffb │ f02e5d7d │ 268801001f6c04042f4d1150 │\n│ 2021-03-02 12:15:56 │ 0x21 │ 00100001    │ f03b9ffb │ f04dd4c6 │ e28801001f6c04040c811120 │\n│ 2021-03-02 12:45:31 │ 0x21 │ 00100001    │ f03b9ffb │ 8073ad6e │ 6a8801001f32040431d41120 │\n│ 2021-03-02 12:45:37 │ 0x21 │ 00100001    │ f03b9ffb │ 8073ad6e │ 708801001f32040434051180 │\n│ 2021-03-02 12:45:38 │ 0x21 │ 00100001    │ f03b9ffb │ 8073ad6e │ 768801001f32040434771190 │\n│ 2021-03-02 12:45:48 │ 0x21 │ 00100001    │ f03b9ffb │ 8073ad6e │ 868801001f32040438521170 │\n│ 2021-03-02 12:45:59 │ 0x21 │ 00100001    │ f03b9ffb │ 8073ad6e │ 8e8801001f3204043c9e1170 │\n│ 2021-03-02 12:46:01 │ 0x29 │ 00101001    │ f03b9ffb │ 8073ad6e │ 948801001f3204043d741180 │\n│ 2021-03-02 12:46:17 │ 0x29 │ 00101001    │ f03b9ffb │ 8073ad6e │ a48801001f32040402221190 │\n│ 2021-03-02 12:46:18 │ 0x29 │ 00101001    │ f03b9ffb │ 8073ad6e │ aa8801001f32040402631170 │\n│ 2021-03-02 12:46:26 │ 0x29 │ 00101001    │ f03b9ffb │ 8073ad6e │ b08801001f32040405b01120 │\n│ 2021-03-02 12:46:34 │ 0x29 │ 00101001    │ f03b9ffb │ 8073ad6e │ c28801001f32040408af1170 │\n│ 2021-03-02 12:46:45 │ 0x29 │ 00101001    │ f03b9ffb │ 8073ad6e │ c88801001f3204040d101170 │\n│ 2021-03-02 12:46:59 │ 0x29 │ 00101001    │ f03b9ffb │ 8073ad6e │ d88801001f32040412941120 │\n│ 2021-03-02 12:47:06 │ 0x29 │ 00101001    │ f03b9ffb │ 8073ad6e │ e08801001f32040415461170 │\n│ 2021-03-02 12:47:09 │ 0x29 │ 00101001    │ f03b9ffb │ 8073ad6e │ e68801001f320404165f1170 │\n│ 2021-03-02 12:47:12 │ 0x29 │ 00101001    │ f03b9ffb │ 8073ad6e │ ec8801001f32040417991180 │\n│ 2021-03-02 12:47:17 │ 0x29 │ 00101001    │ f03b9ffb │ 8073ad6e │ f88801001f32040419781100 │\n│ 2021-03-02 12:47:27 │ 0x29 │ 00101001    │ f03b9ffb │ 8073ad6e │ 088801001f3204041d7f1170 │\n│ 2021-03-02 12:47:37 │ 0x29 │ 00101001    │ f03b9ffb │ 8073ad6e │ 0e8801001f32040421541170 │\n│ 2021-03-02 12:47:51 │ 0x29 │ 00101001    │ f03b9ffb │ 8073ad6e │ 288801001f32040426ce1170 │\n│ 2021-03-02 12:47:55 │ 0x29 │ 00101001    │ f03b9ffb │ 8073ad6e │ 2e8801001f32040428731170 │\n│ 2021-03-02 12:48:24 │ 0x29 │ 00101001    │ f03b9ffb │ 8073ad6e │ 448801001f32040433641170 │\n│ 2021-03-02 12:48:31 │ 0x29 │ 00101001    │ f03b9ffb │ 8073ad6e │ 4e8801001f32040436671170 │\n│ 2021-03-02 12:48:35 │ 0x29 │ 00101001    │ f03b9ffb │ 8073ad6e │ 5c8801001f320404380c1170 │\n│ 2021-03-02 12:48:47 │ 0x29 │ 00101001    │ f03b9ffb │ 8073ad6e │ 648801001f3204043c6d1170 │\n│ 2021-03-02 12:49:33 │ 0x21 │ 00100001    │ f03b9ffb │ f063cf35 │ 808801001f3204040d1c1420 │\n│ 2021-03-02 15:06:40 │ 0x21 │ 00100001    │ f03b9ffb │ f0b0047f │ 0a8801001e3204040af31690 │\n│ 2021-03-02 17:09:35 │ 0x21 │ 00100001    │ f03b9ffb │ f05086d0 │ 048801001f6c040404491170 │\n│ 2021-03-02 18:06:22 │ 0x29 │ 00101001    │ f03b9ffb │ f091461c │ d59006009a502a0916b12950 │\n│ 2021-03-02 18:26:05 │ 0x21 │ 00100001    │ f03b9ffb │ f0eae3c2 │ 228801001f6c040419631620 │\n│ 2021-03-02 19:05:28 │ 0x29 │ 00101001    │ f03b9ffb │ f091461c │ eb9006009850cddb1d9b2930 │\n│ 2021-03-02 19:14:22 │ 0x21 │ 00100001    │ f03b9ffb │ f091461c │ 119006009c500748295c2980 │\n│ 2021-03-02 19:19:45 │ 0x29 │ 00101001    │ f03b9ffb │ f091461c │ bf9006008850b8f5245c2950 │\n│ 2021-03-02 19:28:39 │ 0x29 │ 00101001    │ f03b9ffb │ f091461c │ d39006008850a43b30062940 │\n│ 2021-03-02 19:38:05 │ 0x29 │ 00101001    │ f03b9ffb │ f091461c │ 039006008f50e9a1067c2930 │\n│ 2021-03-02 19:52:24 │ 0x29 │ 00101001    │ f03b9ffb │ f091461c │ bb900600795078d00e002960 │\n│ 2021-03-02 20:44:25 │ 0x21 │ 00100001    │ f03b9ffb │ f0b4894d │ fe8801001f32040433ff1470 │\n│ 2021-03-02 21:16:34 │ 0x29 │ 00101001    │ f03b9ffb │ f091461c │ c991060091505d42122e2980 │\n│ 2021-03-02 21:17:20 │ 0x21 │ 00100001    │ f03b9ffb │ f0b4897b │ e68801001f32040423f11120 │\n│ 2021-03-02 21:22:43 │ 0x29 │ 00101001    │ f03b9ffb │ f091461c │ 999106008f50b0001eb32970 │\n│ 2021-03-02 22:16:00 │ 0x21 │ 00100001    │ f03b9ffb │ f0f95f1c │ 04880100206c040420cf1a90 │\n│ 2021-03-02 22:46:52 │ 0x21 │ 00100001    │ f03b9ffb │ f05361e7 │ cc880100206c0404226c1730 │\n│ 2021-03-03 04:55:11 │ 0x21 │ 00100001    │ f03b9ffb │ f0fed768 │ 708801001e32040404431370 │\n│ 2021-03-03 05:06:26 │ 0x21 │ 00100001    │ f03b9ffb │ f115ed71 │ cc8801001e320404057a1450 │\n│ 2021-03-03 05:55:11 │ 0x29 │ 00101001    │ f03b9ffb │ f091461c │ af9006009450f58320692970 │\n│ 2021-03-03 06:09:28 │ 0x29 │ 00101001    │ f03b9ffb │ f091461c │ 679006008850bffd27282960 │\n└─────────────────────┴──────┴─────────────┴──────────┴──────────┴──────────────────────────┘\n</pre>\n"
     },
     "metadata": {}
    }
   ],
   "source": [
    "table=Table('Timestamp','type','type (bits)',\"From\",\"To\",\"Undecoded bytes\")\n",
    "for r,t in sorted([r for r in records if isinstance(r[0],DataFrame) and r[0].length==21],key=lambda r:r[1]):\n",
    "    table.add_row(\n",
    "        str(t),\n",
    "        f\"0x{r.packet.packet_type:02X}\",\n",
    "        f\"{r.packet.packet_type:08b}\",\n",
    "        r.packet.source.hex(),\n",
    "        r.packet.destination.hex(),\n",
    "        r.packet.bytes[r.packet._fields[-1].slice].hex()\n",
    "    )\n",
    "print(table)"
   ]
  },
  {
   "cell_type": "code",
   "execution_count": null,
   "metadata": {},
   "outputs": [],
   "source": []
  }
 ]
}